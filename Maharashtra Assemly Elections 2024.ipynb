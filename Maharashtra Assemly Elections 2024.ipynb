{
 "cells": [
  {
   "cell_type": "code",
   "execution_count": 0,
   "metadata": {
    "application/vnd.databricks.v1+cell": {
     "cellMetadata": {
      "byteLimit": 2048000,
      "rowLimit": 10000
     },
     "inputWidgets": {},
     "nuid": "7b1bab32-1bec-4b97-b916-7440ac47dc8d",
     "showTitle": false,
     "tableResultSettingsMap": {},
     "title": ""
    }
   },
   "outputs": [
    {
     "output_type": "display_data",
     "data": {
      "text/html": [
       "\n",
       "            <div>\n",
       "                <p><b>SparkSession - hive</b></p>\n",
       "                \n",
       "        <div>\n",
       "            <p><b>SparkContext</b></p>\n",
       "\n",
       "            <p><a href=\"/?o=229716926444062#setting/sparkui/1201-141414-vhjxsvcw/driver-6716807480302237735\">Spark UI</a></p>\n",
       "\n",
       "            <dl>\n",
       "              <dt>Version</dt>\n",
       "                <dd><code>v3.3.2</code></dd>\n",
       "              <dt>Master</dt>\n",
       "                <dd><code>local[8]</code></dd>\n",
       "              <dt>AppName</dt>\n",
       "                <dd><code>Databricks Shell</code></dd>\n",
       "            </dl>\n",
       "        </div>\n",
       "        \n",
       "            </div>\n",
       "        "
      ]
     },
     "metadata": {
      "application/vnd.databricks.v1+output": {
       "addedWidgets": {},
       "arguments": {},
       "data": "\n            <div>\n                <p><b>SparkSession - hive</b></p>\n                \n        <div>\n            <p><b>SparkContext</b></p>\n\n            <p><a href=\"/?o=229716926444062#setting/sparkui/1201-141414-vhjxsvcw/driver-6716807480302237735\">Spark UI</a></p>\n\n            <dl>\n              <dt>Version</dt>\n                <dd><code>v3.3.2</code></dd>\n              <dt>Master</dt>\n                <dd><code>local[8]</code></dd>\n              <dt>AppName</dt>\n                <dd><code>Databricks Shell</code></dd>\n            </dl>\n        </div>\n        \n            </div>\n        ",
       "datasetInfos": [],
       "metadata": {},
       "removedWidgets": [],
       "textData": null,
       "type": "htmlSandbox"
      }
     },
     "output_type": "display_data"
    }
   ],
   "source": [
    "spark"
   ]
  },
  {
   "cell_type": "code",
   "execution_count": 0,
   "metadata": {
    "application/vnd.databricks.v1+cell": {
     "cellMetadata": {
      "byteLimit": 2048000,
      "rowLimit": 10000
     },
     "inputWidgets": {},
     "nuid": "3b65e4c5-447d-4127-a29a-6ebdac08a039",
     "showTitle": false,
     "tableResultSettingsMap": {},
     "title": ""
    }
   },
   "outputs": [],
   "source": [
    "from pyspark.sql.functions import when, col, rank, dense_rank, round, count, sum, avg, min, max\n",
    "from pyspark.sql.window import Window"
   ]
  },
  {
   "cell_type": "code",
   "execution_count": 0,
   "metadata": {
    "application/vnd.databricks.v1+cell": {
     "cellMetadata": {
      "byteLimit": 2048000,
      "rowLimit": 10000
     },
     "inputWidgets": {},
     "nuid": "5b7bacc3-9f59-4dfc-8cf7-57fd4bb10a78",
     "showTitle": false,
     "tableResultSettingsMap": {},
     "title": ""
    }
   },
   "outputs": [
    {
     "output_type": "stream",
     "name": "stdout",
     "output_type": "stream",
     "text": [
      "+-----+---------+-----+--------------------+--------------------+---------+------------+-----------+--------------+\n|AC No|  AC Name|Sl no|           Candidate|               Party|EVM Votes|Postal Votes|Total Votes|Vote Share (%)|\n+-----+---------+-----+--------------------+--------------------+---------+------------+-----------+--------------+\n|    1|AKKALKUWA|    1|  AMSHYA FULJI PADVI|           Shiv Sena|    72411|         218|      72629|         31.55|\n|    1|AKKALKUWA|    2|      ADV K C PADAVI|Indian National C...|    69122|         603|      69725|         30.29|\n|    1|AKKALKUWA|    3|PADMAKAR VIJAYSIN...|Bharat Adivasi Party|     8640|         192|       8832|          3.84|\n|    1|AKKALKUWA|    4|ENG. JELSING BIJA...|         Independent|     2895|          16|       2911|          1.26|\n|    1|AKKALKUWA|    5|  SARYA DHARMA PADVI|         Independent|     1466|           7|       1473|          0.64|\n+-----+---------+-----+--------------------+--------------------+---------+------------+-----------+--------------+\nonly showing top 5 rows\n\n"
     ]
    }
   ],
   "source": [
    "maha_results_df = spark.read.format('csv').option('header', 'true').option('inferSchema', 'true').load(\"dbfs:/FileStore/maha_results_2024.csv\")\n",
    "maha_results_df.show(5)"
   ]
  },
  {
   "cell_type": "code",
   "execution_count": 0,
   "metadata": {
    "application/vnd.databricks.v1+cell": {
     "cellMetadata": {
      "byteLimit": 2048000,
      "rowLimit": 10000
     },
     "inputWidgets": {},
     "nuid": "c27a2b23-629f-48fa-b1ee-98eaa4da8416",
     "showTitle": false,
     "tableResultSettingsMap": {},
     "title": ""
    }
   },
   "outputs": [],
   "source": [
    "# Renaming All the Column names to Easy Read\n",
    "maha_results_df = maha_results_df.withColumnRenamed(\"AC No\", \"Constituency_Number\").withColumnRenamed(\"AC Name\", \"Constituency_Name\").withColumnRenamed(\"Sl no\", \"Serial_Number\").withColumnRenamed(\"Candidate\", \"Candidate_Name\").withColumnRenamed(\"EVM Votes\", \"EVM_Votes\").withColumnRenamed(\"Postal Votes\", \"Postal_Votes\").withColumnRenamed(\"Total Votes\", \"Total_Votes\").withColumnRenamed(\"Vote Share (%)\", \"Vote_Share_in_Percent\")"
   ]
  },
  {
   "cell_type": "code",
   "execution_count": 0,
   "metadata": {
    "application/vnd.databricks.v1+cell": {
     "cellMetadata": {
      "byteLimit": 2048000,
      "rowLimit": 10000
     },
     "inputWidgets": {},
     "nuid": "8eb9aafb-254a-4fd3-b2df-82992abee663",
     "showTitle": false,
     "tableResultSettingsMap": {},
     "title": ""
    }
   },
   "outputs": [
    {
     "output_type": "stream",
     "name": "stdout",
     "output_type": "stream",
     "text": [
      "root\n |-- Constituency_Number: integer (nullable = true)\n |-- Constituency_Name: string (nullable = true)\n |-- Serial_Number: integer (nullable = true)\n |-- Candidate_Name: string (nullable = true)\n |-- Party: string (nullable = true)\n |-- EVM_Votes: integer (nullable = true)\n |-- Postal_Votes: integer (nullable = true)\n |-- Total_Votes: integer (nullable = true)\n |-- Vote_Share_in_Percent: double (nullable = true)\n\n"
     ]
    }
   ],
   "source": [
    "maha_results_df.printSchema()"
   ]
  },
  {
   "cell_type": "code",
   "execution_count": 0,
   "metadata": {
    "application/vnd.databricks.v1+cell": {
     "cellMetadata": {
      "byteLimit": 2048000,
      "rowLimit": 10000
     },
     "inputWidgets": {},
     "nuid": "9801f4e1-9e7c-43e5-9e51-0584323d969f",
     "showTitle": false,
     "tableResultSettingsMap": {},
     "title": ""
    }
   },
   "outputs": [
    {
     "output_type": "stream",
     "name": "stdout",
     "output_type": "stream",
     "text": [
      "+-------------------+-----------------+-------------+--------------------+--------------------+---------+------------+-----------+---------------------+\n|Constituency_Number|Constituency_Name|Serial_Number|      Candidate_Name|               Party|EVM_Votes|Postal_Votes|Total_Votes|Vote_Share_in_Percent|\n+-------------------+-----------------+-------------+--------------------+--------------------+---------+------------+-----------+---------------------+\n|                  1|        AKKALKUWA|            1|  AMSHYA FULJI PADVI|           Shiv Sena|    72411|         218|      72629|                31.55|\n|                  1|        AKKALKUWA|            2|      ADV K C PADAVI|Indian National C...|    69122|         603|      69725|                30.29|\n|                  1|        AKKALKUWA|            3|PADMAKAR VIJAYSIN...|Bharat Adivasi Party|     8640|         192|       8832|                 3.84|\n|                  1|        AKKALKUWA|            4|ENG. JELSING BIJA...|         Independent|     2895|          16|       2911|                 1.26|\n|                  1|        AKKALKUWA|            5|  SARYA DHARMA PADVI|         Independent|     1466|           7|       1473|                 0.64|\n+-------------------+-----------------+-------------+--------------------+--------------------+---------+------------+-----------+---------------------+\nonly showing top 5 rows\n\n"
     ]
    }
   ],
   "source": [
    "maha_results_df.show(5)"
   ]
  },
  {
   "cell_type": "code",
   "execution_count": 0,
   "metadata": {
    "application/vnd.databricks.v1+cell": {
     "cellMetadata": {
      "byteLimit": 2048000,
      "rowLimit": 10000
     },
     "inputWidgets": {},
     "nuid": "dd371dc1-b214-4c9d-8dcf-19d8578bed5d",
     "showTitle": false,
     "tableResultSettingsMap": {},
     "title": ""
    }
   },
   "outputs": [
    {
     "output_type": "stream",
     "name": "stdout",
     "output_type": "stream",
     "text": [
      "Out[7]: 288"
     ]
    }
   ],
   "source": [
    "#1.\tCount the Total Constituencies: Find the total number of constituencies in the dataset\n",
    "maha_results_df.select(\"Constituency_Number\").distinct().count()"
   ]
  },
  {
   "cell_type": "code",
   "execution_count": 0,
   "metadata": {
    "application/vnd.databricks.v1+cell": {
     "cellMetadata": {
      "byteLimit": 2048000,
      "rowLimit": 10000
     },
     "inputWidgets": {},
     "nuid": "cffff4af-cd38-4df9-b20a-8c2ede31f72a",
     "showTitle": false,
     "tableResultSettingsMap": {},
     "title": ""
    }
   },
   "outputs": [
    {
     "output_type": "stream",
     "name": "stdout",
     "output_type": "stream",
     "text": [
      "Out[8]: 160"
     ]
    }
   ],
   "source": [
    "#2.\tList All Parties: Retrieve a distinct list of all parties (party) in the dataset.\n",
    "maha_results_df.select(\"Party\").distinct().count()"
   ]
  },
  {
   "cell_type": "code",
   "execution_count": 0,
   "metadata": {
    "application/vnd.databricks.v1+cell": {
     "cellMetadata": {
      "byteLimit": 2048000,
      "rowLimit": 10000
     },
     "inputWidgets": {},
     "nuid": "9b202a93-2405-473a-8d81-01a4dea537ca",
     "showTitle": false,
     "tableResultSettingsMap": {},
     "title": ""
    }
   },
   "outputs": [
    {
     "output_type": "stream",
     "name": "stdout",
     "output_type": "stream",
     "text": [
      "+-------------------+-----------------+-------------+--------------------+--------------------+---------+------------+-----------+---------------------+----+\n|Constituency_Number|Constituency_Name|Serial_Number|      Candidate_Name|               Party|EVM_Votes|Postal_Votes|Total_Votes|Vote_Share_in_Percent|Rank|\n+-------------------+-----------------+-------------+--------------------+--------------------+---------+------------+-----------+---------------------+----+\n|                  1|        AKKALKUWA|            1|  AMSHYA FULJI PADVI|           Shiv Sena|    72411|         218|      72629|                31.55|   1|\n|                  2|          SHAHADA|            1|RAJESH UDESING PADVI|Bharatiya Janata ...|   145660|        1179|     146839|                59.86|   1|\n|                  3|        NANDURBAR|            3|DR.VIJAYKUMAR KRU...|Bharatiya Janata ...|   154025|        1165|     155190|                64.62|   1|\n|                  4|          NAWAPUR|            2|SHIRISHKUMAR SURU...|Indian National C...|    86183|         983|      87166|                36.14|   1|\n|                  5|            SAKRI|            2|MANJULA TULSHIRAM...|           Shiv Sena|   103704|         945|     104649|                 43.2|   1|\n|                  6|      DHULE RURAL|            3|RAGHAVENDRA (RAMD...|Bharatiya Janata ...|   169039|        1359|     170398|                58.87|   1|\n|                  7|       DHULE CITY|            1|AGRAWAL ANUPBHAIY...|Bharatiya Janata ...|   115125|        1413|     116538|                52.88|   1|\n|                  8|        SINDKHEDA|            1|JAYKUMAR JITENDRA...|Bharatiya Janata ...|   150497|         995|     151492|                66.98|   1|\n|                  9|          SHIRPUR|            1|KASHIRAM VECHAN P...|Bharatiya Janata ...|   176516|        1557|     178073|                 76.7|   1|\n|                 10|           CHOPDA|            1|CHANDRAKANT BALIR...|           Shiv Sena|   121970|         856|     122826|                55.18|   1|\n|                 11|            RAVER|            1|AMOL HARIBHAU JAWALE|Bharatiya Janata ...|   112881|         795|     113676|                 49.3|   1|\n|                 12|         BHUSAWAL|            3|SAVKARE SANJAY WAMAN|Bharatiya Janata ...|   106096|        1163|     107259|                 58.2|   1|\n|                 13|     JALGAON CITY|            4|SURESH DAMU BHOLE...|Bharatiya Janata ...|   150198|        1338|     151536|                62.82|   1|\n|                 14|    JALGAON RURAL|            2|GULABRAO RAGHUNAT...|           Shiv Sena|   142591|         817|     143408|                 60.9|   1|\n|                 15|          AMALNER|            2|  ANIL BHAIDAS PATIL|Nationalist Congr...|   108340|        1105|     109445|                 53.5|   1|\n|                 16|          ERANDOL|            2|AMOL CHIMANRAO PATIL|           Shiv Sena|   100327|         761|     101088|                49.63|   1|\n|                 17|       CHALISGAON|            2|MANGESH RAMESH CH...|Bharatiya Janata ...|   155304|        1797|     157101|                67.08|   1|\n|                 18|          PACHORA|            1|   KISHOR APPA PATIL|           Shiv Sena|    96278|        1088|      97366|                41.98|   1|\n|                 19|           JAMNER|            2|GIRISH DATTATRAY ...|Bharatiya Janata ...|   127266|        1401|     128667|                53.84|   1|\n|                 20|      MUKTAINAGAR|            4|CHANDRAKANT NIMBA...|           Shiv Sena|   111601|         717|     112318|                51.86|   1|\n+-------------------+-----------------+-------------+--------------------+--------------------+---------+------------+-----------+---------------------+----+\nonly showing top 20 rows\n\n"
     ]
    }
   ],
   "source": [
    "#3.\tCandidate with the Highest Votes in a Constituency: Display the candidate with the highest Total_Votes for each Constituency_Number.\n",
    "windowSpec = Window.partitionBy(\"Constituency_Number\").orderBy(col(\"Total_Votes\").desc())\n",
    "\n",
    "ranked_df = maha_results_df.withColumn(\"Rank\", rank().over(windowSpec))\n",
    "ranked_df.filter(col(\"Rank\") == 1).show()"
   ]
  },
  {
   "cell_type": "code",
   "execution_count": 0,
   "metadata": {
    "application/vnd.databricks.v1+cell": {
     "cellMetadata": {
      "byteLimit": 2048000,
      "rowLimit": 10000
     },
     "inputWidgets": {},
     "nuid": "c5c98018-6277-436c-ac34-9f535f1409a7",
     "showTitle": false,
     "tableResultSettingsMap": {},
     "title": ""
    }
   },
   "outputs": [
    {
     "output_type": "stream",
     "name": "stdout",
     "output_type": "stream",
     "text": [
      "+--------------------------+\n|avg(Vote_Share_in_Percent)|\n+--------------------------+\n|         6.509916365280306|\n+--------------------------+\n\n"
     ]
    }
   ],
   "source": [
    "#4.\tAverage Vote Share: Calculate the average Vote_Share_in_percent across all candidates.\n",
    "maha_results_df.agg(avg(\"Vote_Share_in_Percent\")).alias(\"Average_vote_share_percentage\").show()"
   ]
  },
  {
   "cell_type": "code",
   "execution_count": 0,
   "metadata": {
    "application/vnd.databricks.v1+cell": {
     "cellMetadata": {
      "byteLimit": 2048000,
      "rowLimit": 10000
     },
     "inputWidgets": {},
     "nuid": "fee4326e-661d-41d0-9a56-f60e430a1aca",
     "showTitle": false,
     "tableResultSettingsMap": {},
     "title": ""
    }
   },
   "outputs": [
    {
     "output_type": "stream",
     "name": "stdout",
     "output_type": "stream",
     "text": [
      "+--------------------+------------------+\n|               Party|Total_Postal_Votes|\n+--------------------+------------------+\n|Bharatiya Janata ...|            123098|\n|Indian National C...|             84348|\n|Nationalist Congr...|             73098|\n|Shiv Sena (Uddhav...|             67184|\n|           Shiv Sena|             57452|\n|Nationalist Congr...|             42655|\n|         Independent|             37308|\n|Vanchit Bahujan  ...|             12680|\n|Maharashtra Navni...|              5827|\n|   None of the Above|              4872|\n|Peasants And Work...|              3437|\n| Bahujan Samaj Party|              3388|\n|  Jan Surajya Shakti|              3327|\n|Prahar Janshakti ...|              3185|\n|Rashtriya Samaj P...|              2941|\n|All India Majlis-...|              2489|\n|Rashtriya Yuva Sw...|              1683|\n|Communist Party o...|              1427|\n|Bahujan Vikas Aag...|              1053|\n|Rajarshi Shahu Vi...|               899|\n+--------------------+------------------+\nonly showing top 20 rows\n\n"
     ]
    }
   ],
   "source": [
    "#5.\tTotal Postal Votes by Party: Summarize the total Postal_Votes for each party.\n",
    "maha_results_df.groupBy('Party').agg(sum(col('Postal_Votes')).alias(\"Total_Postal_Votes\")).orderBy(col(\"Total_Postal_Votes\").desc()).show()"
   ]
  },
  {
   "cell_type": "code",
   "execution_count": 0,
   "metadata": {
    "application/vnd.databricks.v1+cell": {
     "cellMetadata": {
      "byteLimit": 2048000,
      "rowLimit": 10000
     },
     "inputWidgets": {},
     "nuid": "d0b3dfeb-c328-445e-8e5b-25b5412fa0a0",
     "showTitle": false,
     "tableResultSettingsMap": {},
     "title": ""
    }
   },
   "outputs": [
    {
     "output_type": "stream",
     "name": "stdout",
     "output_type": "stream",
     "text": [
      "+-------------------+-----------------+-------------+--------------------+--------------------+---------+------------+-----------+---------------------+----+\n|Constituency_Number|Constituency_Name|Serial_Number|      Candidate_Name|               Party|EVM_Votes|Postal_Votes|Total_Votes|Vote_Share_in_Percent|Rank|\n+-------------------+-----------------+-------------+--------------------+--------------------+---------+------------+-----------+---------------------+----+\n|                  1|        AKKALKUWA|            1|  AMSHYA FULJI PADVI|           Shiv Sena|    72411|         218|      72629|                31.55|   1|\n|                  2|          SHAHADA|            1|RAJESH UDESING PADVI|Bharatiya Janata ...|   145660|        1179|     146839|                59.86|   1|\n|                  3|        NANDURBAR|            3|DR.VIJAYKUMAR KRU...|Bharatiya Janata ...|   154025|        1165|     155190|                64.62|   1|\n|                  4|          NAWAPUR|            2|SHIRISHKUMAR SURU...|Indian National C...|    86183|         983|      87166|                36.14|   1|\n|                  5|            SAKRI|            2|MANJULA TULSHIRAM...|           Shiv Sena|   103704|         945|     104649|                 43.2|   1|\n|                  6|      DHULE RURAL|            3|RAGHAVENDRA (RAMD...|Bharatiya Janata ...|   169039|        1359|     170398|                58.87|   1|\n|                  7|       DHULE CITY|            1|AGRAWAL ANUPBHAIY...|Bharatiya Janata ...|   115125|        1413|     116538|                52.88|   1|\n|                  8|        SINDKHEDA|            1|JAYKUMAR JITENDRA...|Bharatiya Janata ...|   150497|         995|     151492|                66.98|   1|\n|                  9|          SHIRPUR|            1|KASHIRAM VECHAN P...|Bharatiya Janata ...|   176516|        1557|     178073|                 76.7|   1|\n|                 10|           CHOPDA|            1|CHANDRAKANT BALIR...|           Shiv Sena|   121970|         856|     122826|                55.18|   1|\n|                 11|            RAVER|            1|AMOL HARIBHAU JAWALE|Bharatiya Janata ...|   112881|         795|     113676|                 49.3|   1|\n|                 12|         BHUSAWAL|            3|SAVKARE SANJAY WAMAN|Bharatiya Janata ...|   106096|        1163|     107259|                 58.2|   1|\n|                 13|     JALGAON CITY|            4|SURESH DAMU BHOLE...|Bharatiya Janata ...|   150198|        1338|     151536|                62.82|   1|\n|                 14|    JALGAON RURAL|            2|GULABRAO RAGHUNAT...|           Shiv Sena|   142591|         817|     143408|                 60.9|   1|\n|                 15|          AMALNER|            2|  ANIL BHAIDAS PATIL|Nationalist Congr...|   108340|        1105|     109445|                 53.5|   1|\n|                 16|          ERANDOL|            2|AMOL CHIMANRAO PATIL|           Shiv Sena|   100327|         761|     101088|                49.63|   1|\n|                 17|       CHALISGAON|            2|MANGESH RAMESH CH...|Bharatiya Janata ...|   155304|        1797|     157101|                67.08|   1|\n|                 18|          PACHORA|            1|   KISHOR APPA PATIL|           Shiv Sena|    96278|        1088|      97366|                41.98|   1|\n|                 19|           JAMNER|            2|GIRISH DATTATRAY ...|Bharatiya Janata ...|   127266|        1401|     128667|                53.84|   1|\n|                 20|      MUKTAINAGAR|            4|CHANDRAKANT NIMBA...|           Shiv Sena|   111601|         717|     112318|                51.86|   1|\n+-------------------+-----------------+-------------+--------------------+--------------------+---------+------------+-----------+---------------------+----+\nonly showing top 20 rows\n\n"
     ]
    }
   ],
   "source": [
    "# 6.\tWinning Candidate Per Constituency: Identify the candidate with the maximum Total_Votes in each constituency.\n",
    "windowSpec = Window.partitionBy(\"Constituency_Number\").orderBy(col(\"Total_Votes\").desc())\n",
    "\n",
    "max_total_df = maha_results_df.withColumn(\"Rank\", rank().over(windowSpec))\n",
    "max_total_df.filter(col(\"Rank\") == 1).show()"
   ]
  },
  {
   "cell_type": "code",
   "execution_count": 0,
   "metadata": {
    "application/vnd.databricks.v1+cell": {
     "cellMetadata": {
      "byteLimit": 2048000,
      "rowLimit": 10000
     },
     "inputWidgets": {},
     "nuid": "3bb7b049-ec7a-4935-972d-f4e7843837df",
     "showTitle": false,
     "tableResultSettingsMap": {},
     "title": ""
    }
   },
   "outputs": [
    {
     "output_type": "stream",
     "name": "stdout",
     "output_type": "stream",
     "text": [
      "+---------------+\n|Total_EVM_Votes|\n+---------------+\n|       64054283|\n+---------------+\n\n"
     ]
    }
   ],
   "source": [
    "#   7.\tVotes from EVM: Show the total EVM_Votes cast across all constituencies.\n",
    "maha_results_df.agg(sum(\"EVM_Votes\").alias(\"Total_EVM_Votes\")).show()\n"
   ]
  },
  {
   "cell_type": "code",
   "execution_count": 0,
   "metadata": {
    "application/vnd.databricks.v1+cell": {
     "cellMetadata": {
      "byteLimit": 2048000,
      "rowLimit": 10000
     },
     "inputWidgets": {},
     "nuid": "dd373c3d-b936-4e77-aae9-184a2216220c",
     "showTitle": false,
     "tableResultSettingsMap": {},
     "title": ""
    }
   },
   "outputs": [
    {
     "output_type": "stream",
     "name": "stdout",
     "output_type": "stream",
     "text": [
      "Out[14]: DataFrame[Constituency_Number: int, Constituency_Name: string, Serial_Number: int, Candidate_Name: string, Party: string, EVM_Votes: int, Postal_Votes: int, Total_Votes: int, Vote_Share_in_Percent: double]"
     ]
    }
   ],
   "source": [
    "\n",
    "#   8.\tVote Share Above 50%: List candidates who have a Vote_Share_in_percent greater than 50.\n",
    "maha_results_df.filter(col(\"Vote_Share_in_Percent\") > 50)\n"
   ]
  },
  {
   "cell_type": "code",
   "execution_count": 0,
   "metadata": {
    "application/vnd.databricks.v1+cell": {
     "cellMetadata": {
      "byteLimit": 2048000,
      "rowLimit": 10000
     },
     "inputWidgets": {},
     "nuid": "89155410-f615-4712-b4ac-443ada1b8f1b",
     "showTitle": false,
     "tableResultSettingsMap": {},
     "title": ""
    }
   },
   "outputs": [
    {
     "output_type": "stream",
     "name": "stdout",
     "output_type": "stream",
     "text": [
      "+-------------------+------------------+\n|Constituency_Number| Constituency_Name|\n+-------------------+------------------+\n|                 26|          KHAMGAON|\n|                 36|DHAMANGAON RAILWAY|\n|                  6|       DHULE RURAL|\n|                 31|        AKOLA EAST|\n|                 25|            MEHKAR|\n|                 13|      JALGAON CITY|\n|                 30|        AKOLA WEST|\n|                 24|     SINDKHED RAJA|\n|                 20|       MUKTAINAGAR|\n|                 23|           CHIKHLI|\n|                 29|           BALAPUR|\n|                 21|          MALKAPUR|\n|                 33|             RISOD|\n|                 14|     JALGAON RURAL|\n|                 15|           AMALNER|\n|                  8|         SINDKHEDA|\n|                 35|           KARANJA|\n|                 22|          BULDHANA|\n|                 17|        CHALISGAON|\n|                 37|           BADNERA|\n+-------------------+------------------+\nonly showing top 20 rows\n\n"
     ]
    }
   ],
   "source": [
    "\n",
    "#   9.\tConstituencies with No Postal Votes: Find constituencies where Postal_Votes are zero.\n",
    "maha_results_df.select(\"Constituency_Number\", \"Constituency_Name\").filter(col(\"Postal_Votes\") == 0).distinct().show()"
   ]
  },
  {
   "cell_type": "code",
   "execution_count": 0,
   "metadata": {
    "application/vnd.databricks.v1+cell": {
     "cellMetadata": {
      "byteLimit": 2048000,
      "rowLimit": 10000
     },
     "inputWidgets": {},
     "nuid": "3b826077-d056-4286-8ba5-947e26722f1d",
     "showTitle": false,
     "tableResultSettingsMap": {},
     "title": ""
    }
   },
   "outputs": [
    {
     "output_type": "stream",
     "name": "stdout",
     "output_type": "stream",
     "text": [
      "+--------------------+-----+\n|               Party|count|\n+--------------------+-----+\n|         Independent| 2086|\n|   None of the Above|  288|\n| Bahujan Samaj Party|  237|\n|Vanchit Bahujan  ...|  200|\n|Bharatiya Janata ...|  149|\n|Maharashtra Navni...|  125|\n|Indian National C...|  101|\n|Shiv Sena (Uddhav...|   95|\n|Rashtriya Samaj P...|   93|\n|Nationalist Congr...|   86|\n|           Shiv Sena|   81|\n|Nationalist Congr...|   59|\n|Peoples Party of ...|   44|\n|Prahar Janshakti ...|   38|\n|Maharashtra Swara...|   32|\n|Republican Party ...|   31|\n|Aazad Samaj Party...|   28|\n|Bahujan Republica...|   22|\n|     Republican Sena|   21|\n|   Swabhimani Paksha|   19|\n+--------------------+-----+\nonly showing top 20 rows\n\n"
     ]
    }
   ],
   "source": [
    "#   10.\tCount Candidates per Party: Display the total number of candidates for each party.\n",
    "maha_results_df.groupBy(\"Party\").count().orderBy(col(\"count\").desc()).show()"
   ]
  },
  {
   "cell_type": "code",
   "execution_count": 0,
   "metadata": {
    "application/vnd.databricks.v1+cell": {
     "cellMetadata": {
      "byteLimit": 2048000,
      "rowLimit": 10000
     },
     "inputWidgets": {},
     "nuid": "3b8e1aec-d288-4777-8f6b-d2b20f997195",
     "showTitle": false,
     "tableResultSettingsMap": {},
     "title": ""
    }
   },
   "outputs": [
    {
     "output_type": "stream",
     "name": "stdout",
     "output_type": "stream",
     "text": [
      "+--------------------+---------------------+\n|               Party|Total_Votes_Per_Party|\n+--------------------+---------------------+\n|Bharatiya Janata ...|             17293650|\n|Indian National C...|              8020921|\n|           Shiv Sena|              7996930|\n+--------------------+---------------------+\n\n"
     ]
    }
   ],
   "source": [
    "#   11.\tTop 3 Parties Based on Total Votes:\n",
    "#   Retrieve the top 3 parties with the highest sum of Total_Votes.\n",
    "\n",
    "maha_results_df.groupBy(\"Party\").agg(sum(\"Total_Votes\").alias(\"Total_Votes_Per_Party\")).orderBy(col(\"Total_Votes_Per_Party\").desc()).limit(3).show()"
   ]
  },
  {
   "cell_type": "code",
   "execution_count": 0,
   "metadata": {
    "application/vnd.databricks.v1+cell": {
     "cellMetadata": {
      "byteLimit": 2048000,
      "rowLimit": 10000
     },
     "inputWidgets": {},
     "nuid": "33273f64-7e72-4aff-8746-9030b3a9c5c2",
     "showTitle": false,
     "tableResultSettingsMap": {},
     "title": ""
    }
   },
   "outputs": [
    {
     "output_type": "stream",
     "name": "stdout",
     "output_type": "stream",
     "text": [
      "+--------------------+----------------------+------------------------+\n|               party|total_no_of_candidates|no_of_winning_candidates|\n+--------------------+----------------------+------------------------+\n|Bharatiya Janata ...|                   149|                     132|\n|           Shiv Sena|                    81|                      57|\n|Nationalist Congr...|                    59|                      41|\n|Shiv Sena (Uddhav...|                    95|                      20|\n|Indian National C...|                   101|                      16|\n|Nationalist Congr...|                    86|                      10|\n|  Jan Surajya Shakti|                     6|                       2|\n|     Samajwadi Party|                     9|                       2|\n|         Independent|                  2086|                       2|\n|Rashtriya Samaj P...|                    93|                       1|\n|Rashtriya Yuva Sw...|                     2|                       1|\n|Communist Party o...|                     3|                       1|\n|Rajarshi Shahu Vi...|                     1|                       1|\n|All India Majlis-...|                    17|                       1|\n|Peasants And Work...|                    18|                       1|\n|Netaji Congress Sena|                     1|                       0|\n|   None of the Above|                   288|                       0|\n|Janata Dal  (Secu...|                     4|                       0|\n|Swarajya Rashtra ...|                     2|                       0|\n|Socialist Unity C...|                     3|                       0|\n+--------------------+----------------------+------------------------+\nonly showing top 20 rows\n\n"
     ]
    }
   ],
   "source": [
    "#   12. for each party from total_no_of_candidates how many candidates are won ?\n",
    "\n",
    "# Define window for dense rank\n",
    "windowSpec = Window.partitionBy(\"Constituency_Number\").orderBy(col(\"Total_Votes\").desc())\n",
    "\n",
    "# Add dense rank column\n",
    "candidate_ranks = maha_results_df.withColumn(\"rnk\", dense_rank().over(windowSpec))\n",
    "\n",
    "# Aggregate results: count total candidates and winning candidates\n",
    "result = (\n",
    "    candidate_ranks.groupBy(\"party\")\n",
    "    .agg(\n",
    "        count(\"*\").alias(\"total_no_of_candidates\"),\n",
    "        count(when(col(\"rnk\") == 1, 1)).alias(\"no_of_winning_candidates\")\n",
    "    )\n",
    "    .orderBy(col(\"no_of_winning_candidates\").desc())\n",
    ")\n",
    "\n",
    "# Show the result\n",
    "result.show()"
   ]
  },
  {
   "cell_type": "code",
   "execution_count": 0,
   "metadata": {
    "application/vnd.databricks.v1+cell": {
     "cellMetadata": {
      "byteLimit": 2048000,
      "rowLimit": 10000
     },
     "inputWidgets": {},
     "nuid": "fd1dc00d-d75c-4dd0-b9b8-d69d44ce9b75",
     "showTitle": false,
     "tableResultSettingsMap": {},
     "title": ""
    }
   },
   "outputs": [
    {
     "output_type": "stream",
     "name": "stdout",
     "output_type": "stream",
     "text": [
      "+-------------------+-----------------+\n|Constituency_Number|Constituency_Name|\n+-------------------+-----------------+\n+-------------------+-----------------+\n\n"
     ]
    }
   ],
   "source": [
    "#13.   Constituencies with Closest Margins: Find constituencies where the difference in Total_Votes between the top two candidates is less than 100.\n",
    "\n",
    "windowSpec = Window.partitionBy(\"Constituency_Number\").orderBy(col(\"Total_Votes\").desc())\n",
    "\n",
    "ranked_candidates = maha_results_df.withColumn(\"rnk\", dense_rank().over(windowSpec))\n",
    "\n",
    "self_join_df = ranked_candidates.alias(\"rc1\").join(\n",
    "    ranked_candidates.alias(\"rc2\"),\n",
    "    (col(\"rc1.Constituency_Number\") == col(\"rc2.Constituency_Number\")) &\n",
    "    (col(\"rc1.rnk\") == 1) & (col(\"rc2.rnk\") == 2),\n",
    "    \"inner\"\n",
    ").filter(col(\"rc1.Total_Votes\") - col(\"rc2.Total_Votes\") < 100).select(\n",
    "    \"rc1.Constituency_Number\", \"rc1.Constituency_Name\"\n",
    ")\n",
    "\n",
    "self_join_df.show()"
   ]
  },
  {
   "cell_type": "code",
   "execution_count": 0,
   "metadata": {
    "application/vnd.databricks.v1+cell": {
     "cellMetadata": {
      "byteLimit": 2048000,
      "rowLimit": 10000
     },
     "inputWidgets": {},
     "nuid": "62fc6771-5d8c-4dfd-9cfb-904aa526de90",
     "showTitle": false,
     "tableResultSettingsMap": {},
     "title": ""
    }
   },
   "outputs": [
    {
     "output_type": "stream",
     "name": "stdout",
     "output_type": "stream",
     "text": [
      "+-------------------+-------------------+--------------+\n|Constituency_Number|  Constituency_Name|Winning_margin|\n+-------------------+-------------------+--------------+\n|                  9|            SHIRPUR|        145944|\n|                262|             SATARA|        142124|\n|                233|              PARLI|        140224|\n|                116|             BAGLAN|        129297|\n|                219|          KOPARGAON|        124624|\n|                147|KOPRI - PACHPAKHADI|        120717|\n|                 54|        NAGPUR EAST|        115288|\n|                210|            KOTHRUD|        112041|\n|                204|              MAVAL|        108565|\n|                146|   OVALA - MAJIWADA|        108158|\n|                 41|            MELGHAT|        106859|\n|                115|     MALEGAON OUTER|        106606|\n|                205|          CHINCHWAD|        103865|\n|                201|           BARAMATI|        100899|\n|                152|           BORIVALI|        100257|\n|                149|     MUMBRA - KALWA|         96228|\n|                  8|          SINDKHEDA|         95884|\n|                237|              UDGIR|         93214|\n|                150|             AIROLI|         91880|\n|                161|            CHARKOP|         91154|\n+-------------------+-------------------+--------------+\nonly showing top 20 rows\n\n"
     ]
    }
   ],
   "source": [
    "#   14.\tWinning Margin for Each Constituency:s\n",
    "#   Calculate the winning margin (difference in votes) for each constituency.\n",
    "\n",
    "windowSpec = Window.partitionBy(\"Constituency_Number\").orderBy(col(\"Total_Votes\").desc())\n",
    "\n",
    "ranked_candidates = maha_results_df.withColumn(\"rnk\", dense_rank().over(windowSpec))\n",
    "\n",
    "self_join_df = ranked_candidates.alias(\"rc1\").join(\n",
    "    ranked_candidates.alias(\"rc2\"),\n",
    "    (col(\"rc1.Constituency_Number\") == col(\"rc2.Constituency_Number\")) &\n",
    "    (col(\"rc1.rnk\") == 1) & (col(\"rc2.rnk\") == 2),\n",
    "    \"inner\"\n",
    ").withColumn(\"Winning_margin\", col(\"rc1.Total_Votes\")-col(\"rc2.Total_Votes\"))\n",
    "\n",
    "self_join_df.select(\"rc1.Constituency_Number\", \"rc1.Constituency_Name\", \"Winning_margin\").orderBy(col(\"Winning_margin\").desc()).show()"
   ]
  },
  {
   "cell_type": "code",
   "execution_count": 0,
   "metadata": {
    "application/vnd.databricks.v1+cell": {
     "cellMetadata": {
      "byteLimit": 2048000,
      "rowLimit": 10000
     },
     "inputWidgets": {},
     "nuid": "c42ca751-c652-4d2e-9392-a9d39ed5bca4",
     "showTitle": false,
     "tableResultSettingsMap": {},
     "title": ""
    }
   },
   "outputs": [
    {
     "output_type": "stream",
     "name": "stdout",
     "output_type": "stream",
     "text": [
      "+--------------------+-------------------+--------------------+------------------+\n|               Party|Constituency_Number|      Candidate_Name|Maximum_vote_share|\n+--------------------+-------------------+--------------------+------------------+\n|         Independent|                 14|SHIVAJI MAHARU HA...|              0.16|\n|         Independent|                 35|VIJAY BAJIRAO WAN...|              0.07|\n|         Independent|                 85|MADHAV NARSING ME...|              0.02|\n|         Independent|                100|         NISAR PATEL|              0.26|\n| Bahujan Samaj Party|                101| KISHOR YADAV BORUDE|               0.4|\n|         Independent|                103|KESHAV RAMKISAN D...|              0.62|\n|   None of the Above|                114|                NOTA|              0.46|\n|         Independent|                120|SAGAR PANDURANG S...|              0.93|\n|Vanchit Bahujan  ...|                126|DR. AVINASH NIRAN...|              6.44|\n|Indian National C...|                136|DAYANAND MOTIRAM ...|              12.1|\n|         Independent|                138|SURESH KALURAM JA...|              0.06|\n|         Independent|                184|WAHEED AHMED ABDU...|              0.06|\n|Indian National C...|                187| HEERA NAWAJI DEVASI|             27.46|\n|         Independent|                189| VISHAL VISHNU PATIL|              0.14|\n|Indian National C...|                209|       DATTA BAHIRAT|              31.3|\n|Rashtriya Samaj P...|                256|SAGAR VINAYAK JANKAR|              0.21|\n|         Independent|                 13|SAYYAD FARUQ SAYY...|              0.05|\n|         Independent|                 60|JAGDISH TREMBAK N...|              0.11|\n|All India Hindust...|                115|CHANDRAKANT KESHA...|              0.12|\n|        Yelgar Party|                116|  ANANDA LAXMAN MORE|              0.59|\n+--------------------+-------------------+--------------------+------------------+\nonly showing top 20 rows\n\n"
     ]
    }
   ],
   "source": [
    "#   15.\tHighest Vote Share by Party:\n",
    "#   Identify the constituency and candidate where each party received its highest Vote_Share_in_percent.\n",
    "\n",
    "maha_results_df.groupBy(\"Party\", \"Constituency_Number\", \"Candidate_Name\").agg(max(\"Vote_Share_in_Percent\").alias(\"Maximum_vote_share\")).show()"
   ]
  },
  {
   "cell_type": "code",
   "execution_count": 0,
   "metadata": {
    "application/vnd.databricks.v1+cell": {
     "cellMetadata": {
      "byteLimit": 2048000,
      "rowLimit": 10000
     },
     "inputWidgets": {},
     "nuid": "6142ade6-b260-435a-8d7a-e6ad60dc3bf4",
     "showTitle": false,
     "tableResultSettingsMap": {},
     "title": ""
    }
   },
   "outputs": [
    {
     "output_type": "stream",
     "name": "stdout",
     "output_type": "stream",
     "text": [
      "+--------------------+--------------------+-------------------+-----------------+-----------+---------------+\n|      Candidate_Name|               Party|Constituency_Number|Constituency_Name|Total_Votes|vote_percentage|\n+--------------------+--------------------+-------------------+-----------------+-----------+---------------+\n|GAJENDRA KRUSHNAD...| Bahujan Samaj Party|                188|           PANVEL|       1526|            0.4|\n|PRASHANT RAMSHETH...|Bharatiya Janata ...|                188|           PANVEL|     183931|           47.9|\n|YOGESH JANARDAN C...|Maharashtra Navni...|                188|           PANVEL|      10231|           2.66|\n|   LEENA ARJUN GARAD|Shiv Sena (Uddhav...|                188|           PANVEL|      43989|          11.46|\n|KANTILAL HARISHCH...|Lokmudra Janhit P...|                188|           PANVEL|       2429|           0.63|\n| PAVAN UTTAMRAO KALE|Bhartiya Jan Samr...|                188|           PANVEL|        477|           0.12|\n|BALARAM DATTATREY...|Peasants And Work...|                188|           PANVEL|     132840|           34.6|\n|DR VASANT UTTAM R...|Digital Organizat...|                188|           PANVEL|       1038|           0.27|\n|SANTOSH SHARAD PAWAR|     Republican Sena|                188|           PANVEL|       1729|           0.45|\n| CHETAN NAGESH BHOIR|         Independent|                188|           PANVEL|        446|           0.12|\n|PRAKASH RAMCHANDR...|         Independent|                188|           PANVEL|        264|           0.07|\n|BALARAM GAURYA PATIL|         Independent|                188|           PANVEL|        463|           0.12|\n|BALARAM MAHADEV P...|         Independent|                188|           PANVEL|        696|           0.18|\n|                NOTA|   None of the Above|                188|           PANVEL|       3905|           1.02|\n| KALATE RAHUL TANAJI|Nationalist Congr...|                205|        CHINCHWAD|     131458|           33.8|\n|JAGTAP SHANKAR PA...|Bharatiya Janata ...|                205|        CHINCHWAD|     235323|          60.51|\n|RAJENDRA KUNDLIK ...| Bahujan Samaj Party|                205|        CHINCHWAD|       2272|           0.58|\n|BHAPKAR MARUTI SA...|Maharashtra Swara...|                205|        CHINCHWAD|        471|           0.12|\n|RAFIQUE RASHID QU...|Swarajya Shakti Sena|                205|        CHINCHWAD|        241|           0.06|\n| SATISH BHASKAR KALE|Swarajya Rashtra ...|                205|        CHINCHWAD|        335|           0.09|\n+--------------------+--------------------+-------------------+-----------------+-----------+---------------+\nonly showing top 20 rows\n\n"
     ]
    }
   ],
   "source": [
    "#   16.\tVotes Percentage in Top 3 Constituencies:\n",
    "#   For the top 3 constituencies with the highest total votes, calculate each candidate's percentage share of votes.\n",
    "\n",
    "top_3_constituencies = maha_results_df.groupBy(\n",
    "    \"Constituency_Number\", \"Constituency_Name\").agg(\n",
    "        sum(\"Total_Votes\").alias(\"Total_votes_per_constituency\")\n",
    "    ).orderBy(col(\"Total_votes_per_constituency\").desc()).limit(3)\n",
    "\n",
    "joined_df = (\n",
    "    maha_results_df.alias(\"mr\").join(\n",
    "        top_3_constituencies.alias(\"tc\"),\n",
    "        col(\"mr.Constituency_Number\") == col(\"tc.Constituency_Number\"),\n",
    "        \"inner\"\n",
    "    ).withColumn(\"vote_percentage\", round(col(\"mr.Total_Votes\")*100 / col(\"tc.Total_votes_per_constituency\"),2)).select(\n",
    "        col(\"mr.Candidate_Name\"), \n",
    "        col(\"mr.Party\"), \n",
    "        col(\"mr.Constituency_Number\"), \n",
    "        col(\"mr.Constituency_Name\"), \n",
    "        col(\"mr.Total_Votes\"), \n",
    "        col(\"vote_percentage\")\n",
    "    )\n",
    ")\n",
    "\n",
    "joined_df.show()"
   ]
  },
  {
   "cell_type": "code",
   "execution_count": 0,
   "metadata": {
    "application/vnd.databricks.v1+cell": {
     "cellMetadata": {
      "byteLimit": 2048000,
      "rowLimit": 10000
     },
     "inputWidgets": {},
     "nuid": "82e1dd4a-5763-4765-a898-dd9a9820281c",
     "showTitle": false,
     "tableResultSettingsMap": {},
     "title": ""
    }
   },
   "outputs": [
    {
     "output_type": "stream",
     "name": "stdout",
     "output_type": "stream",
     "text": [
      "+--------------------+------------------+\n|               Party|Average_Vote_Share|\n+--------------------+------------------+\n|Netaji Congress Sena|              0.05|\n|   None of the Above|              0.75|\n|Janata Dal  (Secu...|              0.15|\n|Swarajya Rashtra ...|              0.25|\n|Socialist Unity C...|              0.13|\n|Sambhaji Brigade ...|              0.32|\n|Nationalist Congr...|             42.07|\n|Ambedkarist Repub...|              0.07|\n|Social Democratic...|               0.3|\n|Digital Organizat...|              0.27|\n|Bhartiya Navjawan...|              0.04|\n|     Janata Congress|              0.06|\n|Rashtriya Samaj P...|              1.02|\n|Bhartiya Asmita P...|              0.14|\n|Rashtriya Yuva Sw...|             46.39|\n|Revolutionary Mar...|               0.4|\n|All India Forward...|              0.07|\n|Bhartiya Tribal P...|              0.32|\n|Right to Recall P...|              0.17|\n|Bahujan Samaj Par...|              0.33|\n+--------------------+------------------+\nonly showing top 20 rows\n\n"
     ]
    }
   ],
   "source": [
    "#   17.\tParty-Wise Vote Share Distribution:\n",
    "#   Calculate the average Vote_Share_in_percent for each party.\n",
    "maha_results_df.groupBy(\"Party\").agg(round(avg(\"Vote_Share_in_Percent\"),2).alias(\"Average_Vote_Share\")).show()"
   ]
  },
  {
   "cell_type": "code",
   "execution_count": 0,
   "metadata": {
    "application/vnd.databricks.v1+cell": {
     "cellMetadata": {
      "byteLimit": 2048000,
      "rowLimit": 10000
     },
     "inputWidgets": {},
     "nuid": "0ca050b5-78e8-46fc-b22a-b852c336b7ff",
     "showTitle": false,
     "tableResultSettingsMap": {},
     "title": ""
    }
   },
   "outputs": [
    {
     "output_type": "stream",
     "name": "stdout",
     "output_type": "stream",
     "text": [
      "+-------------------+------------------+----------------+\n|Constituency_Number| Constituency_Name|No_of_Candidates|\n+-------------------+------------------+----------------+\n|                229|         MAJALGAON|              35|\n|                 86|      NANDED NORTH|              34|\n|                103|         BHOKARDAN|              33|\n|                230|              BEED|              32|\n|                 13|      JALGAON CITY|              30|\n|                109|   AURANGABAD EAST|              30|\n|                106|         PHULAMBRI|              28|\n|                 35|           KARANJA|              28|\n|                101|             JALNA|              27|\n|                 57|      NAGPUR NORTH|              27|\n|                 37|           BADNERA|              27|\n|                232|              KAIJ|              26|\n|                251|     SOLAPUR SOUTH|              26|\n|                 85|            BHOKAR|              26|\n|                200|           INDAPUR|              25|\n|                 36|DHAMANGAON RAILWAY|              25|\n|                 23|           CHIKHLI|              25|\n|                104|            SILLOD|              25|\n|                107|AURANGABAD CENTRAL|              25|\n|                252|        PANDHARPUR|              25|\n+-------------------+------------------+----------------+\nonly showing top 20 rows\n\n"
     ]
    }
   ],
   "source": [
    "#   18.\tIdentify Constituencies with Most Candidates:\n",
    "#   Find the constituencies with the highest number of candidates.\n",
    "\n",
    "maha_results_df.groupBy(\n",
    "    \"Constituency_Number\", \n",
    "    \"Constituency_Name\"\n",
    ").agg(count(\"Candidate_Name\").alias(\"No_of_Candidates\")).orderBy(col(\"No_of_Candidates\").desc()).show()"
   ]
  },
  {
   "cell_type": "code",
   "execution_count": 0,
   "metadata": {
    "application/vnd.databricks.v1+cell": {
     "cellMetadata": {
      "byteLimit": 2048000,
      "rowLimit": 10000
     },
     "inputWidgets": {},
     "nuid": "47353c0b-b670-452f-bb11-3712aa02eac1",
     "showTitle": false,
     "tableResultSettingsMap": {},
     "title": ""
    }
   },
   "outputs": [
    {
     "output_type": "stream",
     "name": "stdout",
     "output_type": "stream",
     "text": [
      "+--------------------+----------------------------+\n|               Party|contribution_of_postal_votes|\n+--------------------+----------------------------+\n|Netaji Congress Sena|                         0.0|\n|   None of the Above|                        1.05|\n|Janata Dal  (Secu...|                         0.3|\n|Swarajya Rashtra ...|                        0.93|\n|Socialist Unity C...|                         0.0|\n|Sambhaji Brigade ...|                         0.5|\n|Nationalist Congr...|                        0.73|\n|Ambedkarist Repub...|                         1.3|\n|Social Democratic...|                        0.38|\n|Digital Organizat...|                        1.35|\n|Bhartiya Navjawan...|                        1.74|\n|     Janata Congress|                        0.53|\n|Rashtriya Samaj P...|                         1.1|\n|Bhartiya Asmita P...|                        0.65|\n|Rashtriya Yuva Sw...|                        0.86|\n|Revolutionary Mar...|                        0.21|\n|All India Forward...|                         0.5|\n|Bhartiya Tribal P...|                        0.32|\n|Right to Recall P...|                        0.41|\n|Bahujan Samaj Par...|                        0.24|\n+--------------------+----------------------------+\nonly showing top 20 rows\n\n"
     ]
    }
   ],
   "source": [
    "#   19.\tPostal Votes Contribution by Party:\n",
    "#   Calculate the percentage contribution of Postal_Votes for each party.\n",
    "\n",
    "maha_results_df.groupBy(\n",
    "    \"Party\"\n",
    ").agg(\n",
    "    round(sum(\"Postal_Votes\")*100 / sum(\"Total_Votes\"),2).alias(\"contribution_of_postal_votes\")\n",
    ").show()\n"
   ]
  },
  {
   "cell_type": "code",
   "execution_count": 0,
   "metadata": {
    "application/vnd.databricks.v1+cell": {
     "cellMetadata": {
      "byteLimit": 2048000,
      "rowLimit": 10000
     },
     "inputWidgets": {},
     "nuid": "39d284b3-0ea2-4504-bc53-cb2020392724",
     "showTitle": false,
     "tableResultSettingsMap": {},
     "title": ""
    }
   },
   "outputs": [
    {
     "output_type": "stream",
     "name": "stdout",
     "output_type": "stream",
     "text": [
      "+-------------------+-----------------+--------------------+-----------+\n|Constituency_Number|Constituency_Name|      Candidate_Name|Total_Votes|\n+-------------------+-----------------+--------------------+-----------+\n|                  1|        AKKALKUWA|  AMSHYA FULJI PADVI|      72629|\n|                  2|          SHAHADA|RAJESH UDESING PADVI|     146839|\n|                  3|        NANDURBAR|DR.VIJAYKUMAR KRU...|     155190|\n|                  4|          NAWAPUR|SHIRISHKUMAR SURU...|      87166|\n|                  5|            SAKRI|MANJULA TULSHIRAM...|     104649|\n|                  6|      DHULE RURAL|RAGHAVENDRA (RAMD...|     170398|\n|                  7|       DHULE CITY|AGRAWAL ANUPBHAIY...|     116538|\n|                  8|        SINDKHEDA|JAYKUMAR JITENDRA...|     151492|\n|                  9|          SHIRPUR|KASHIRAM VECHAN P...|     178073|\n|                 10|           CHOPDA|CHANDRAKANT BALIR...|     122826|\n|                 11|            RAVER|AMOL HARIBHAU JAWALE|     113676|\n|                 12|         BHUSAWAL|SAVKARE SANJAY WAMAN|     107259|\n|                 13|     JALGAON CITY|SURESH DAMU BHOLE...|     151536|\n|                 14|    JALGAON RURAL|GULABRAO RAGHUNAT...|     143408|\n|                 15|          AMALNER|  ANIL BHAIDAS PATIL|     109445|\n|                 16|          ERANDOL|AMOL CHIMANRAO PATIL|     101088|\n|                 17|       CHALISGAON|MANGESH RAMESH CH...|     157101|\n|                 18|          PACHORA|   KISHOR APPA PATIL|      97366|\n|                 19|           JAMNER|GIRISH DATTATRAY ...|     128667|\n|                 20|      MUKTAINAGAR|CHANDRAKANT NIMBA...|     112318|\n+-------------------+-----------------+--------------------+-----------+\nonly showing top 20 rows\n\n"
     ]
    }
   ],
   "source": [
    "#   20.\tFilter Constituencies by Party Performance:\n",
    "#   List constituencies where a specific party won (e.g., party = 'XYZ').\n",
    "\n",
    "# Step 1: Calculate max total votes per constituencies\n",
    "highest_votes_df = maha_results_df.groupBy(\"Constituency_Number\").agg(max(\"Total_Votes\").alias(\"Max_total_votes_per_constituency\"))\n",
    "\n",
    "# Step 2: Join with the original DataFrame\n",
    "result_df = highest_votes_df.alias(\"hv\").join(\n",
    "    maha_results_df.alias(\"mr\"),\n",
    "    (col(\"hv.Constituency_Number\") == col(\"mr.Constituency_Number\")) & \n",
    "    (col(\"Max_total_votes_per_constituency\") == col(\"Total_Votes\")),\n",
    "    \"inner\"\n",
    ").select(\n",
    "    col(\"hv.Constituency_Number\").alias(\"Constituency_Number\"),\n",
    "    \"Constituency_Name\",\n",
    "    \"Candidate_Name\",\n",
    "    col(\"mr.Total_Votes\")\n",
    ")\n",
    "\n",
    "# Step 3: Show the result\n",
    "result_df.show()"
   ]
  },
  {
   "cell_type": "code",
   "execution_count": 0,
   "metadata": {
    "application/vnd.databricks.v1+cell": {
     "cellMetadata": {
      "byteLimit": 2048000,
      "rowLimit": 10000
     },
     "inputWidgets": {},
     "nuid": "515d6eb8-73cb-4171-97b4-6fd2d2e4f098",
     "showTitle": false,
     "tableResultSettingsMap": {},
     "title": ""
    }
   },
   "outputs": [
    {
     "output_type": "stream",
     "name": "stdout",
     "output_type": "stream",
     "text": [
      "+--------------------+-------------------+------------------+--------------------+\n|               Party|Constituency_Number| Constituency_Name|      Candidate_Name|\n+--------------------+-------------------+------------------+--------------------+\n|Bharat Adivasi Party|                  1|         AKKALKUWA|PADMAKAR VIJAYSIN...|\n|Minorities Democr...|                  8|         SINDKHEDA| GULAM AYYUB PINJARI|\n|Communist Party o...|                  9|           SHIRPUR|   BUDHA MALA PAWARA|\n|   Vikas India Party|                 13|      JALGAON CITY|MAMTA BHIKARI TAD...|\n|Rashtriya Janmanc...|                 17|        CHALISGAON| SANDIP ASHOK LANDGE|\n|Socialist Party (...|                 23|           CHIKHLI|MACCHINDRA SHESHR...|\n|Jantantrik Samta ...|                 26|          KHAMGAON|PAVAN KESHAV JAIN...|\n|Indian National L...|                 26|          KHAMGAON|SHAIKH RASHID SHA...|\n|Maharashtra Swara...|                 27|   JALGAON (JAMOD)|PRASHANT KASHIRAM...|\n|Vanchit Bahujan  ...|                 29|           BALAPUR|         S.N. KHATIB|\n|Bhartiya Asmita P...|                 29|           BALAPUR| PRAMOD RAMESH KADAM|\n|Lokataantrik Jana...|                 30|        AKOLA WEST|DINESH SHAMBHUDAY...|\n|   Desh Janhit Party|                 32|        MURTIZAPUR|KISHOR DNYANESHWA...|\n|  Samnak Janta Party|                 35|           KARANJA|YAYATI MANOHARRAO...|\n|Ambedkarist Repub...|                 36|DHAMANGAON RAILWAY|        AKSHAY KUMAR|\n|Rashtriya Yuva Sw...|                 37|           BADNERA| RAVI GANGADHAR RANA|\n| Open people’s Party|                 37|           BADNERA|SONALI SANJAY MES...|\n|Aazad Samaj Party...|                 38|          AMRAVATI|ALIM PATEL MO. WA...|\n|Indian Union Musl...|                 38|          AMRAVATI|IRFAN KHAN USMAN ...|\n|Ambedkarite Party...|                 41|           MELGHAT|RAMKISHOR KALURAM...|\n+--------------------+-------------------+------------------+--------------------+\nonly showing top 20 rows\n\n"
     ]
    }
   ],
   "source": [
    "#   21.\tParty-Wise Top Performers:\n",
    "#   Identify the top-performing candidate for each party.\n",
    "\n",
    "# Step 1: Calculate max total votes per party\n",
    "highest_votes_df = maha_results_df.groupBy(\"Party\").agg(max(\"Total_Votes\").alias(\"Max_total_votes_per_party\"))\n",
    "\n",
    "# Step 2: Join with the original DataFrame\n",
    "result_df = highest_votes_df.alias(\"hv\").join(\n",
    "    maha_results_df.alias(\"mr\"),\n",
    "    (col(\"hv.Party\") == col(\"mr.Party\")) & \n",
    "    (col(\"Max_total_votes_per_party\") == col(\"Total_Votes\")),\n",
    "    \"inner\"\n",
    ").select(\n",
    "    col(\"hv.Party\").alias(\"Party\"),\n",
    "    \"Constituency_Number\",\n",
    "    \"Constituency_Name\",\n",
    "    \"Candidate_Name\"\n",
    ")\n",
    "\n",
    "# Step 3: Show the result\n",
    "result_df.show()"
   ]
  }
 ],
 "metadata": {
  "application/vnd.databricks.v1+notebook": {
   "dashboards": [],
   "environmentMetadata": null,
   "language": "python",
   "notebookMetadata": {
    "pythonIndentUnit": 4
   },
   "notebookName": "Maharashtra Assemly Elections 2024",
   "widgets": {}
  }
 },
 "nbformat": 4,
 "nbformat_minor": 0
}
